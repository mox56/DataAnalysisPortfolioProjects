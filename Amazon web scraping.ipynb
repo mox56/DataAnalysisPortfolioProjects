{
 "cells": [
  {
   "cell_type": "code",
   "execution_count": 124,
   "metadata": {},
   "outputs": [],
   "source": [
    "#import libraries\n",
    "\n",
    "from bs4 import BeautifulSoup\n",
    "import requests\n",
    "import time\n",
    "import datetime\n",
    "import smtplib"
   ]
  },
  {
   "cell_type": "code",
   "execution_count": 127,
   "metadata": {},
   "outputs": [
    {
     "name": "stdout",
     "output_type": "stream",
     "text": [
      "\n",
      "             Tops & T Shirt - Data Analytics EngineeRingss Funny Analyst Joke T Shirt Graphic Cotton Streetwear Short Sleeve BirthDay%Giftsss Summer Style T-shirt (GRAY XL)\n",
      "            \n",
      "\n",
      "\n",
      "    AED 159.43    AED159.43       \n",
      "\n",
      "   \n"
     ]
    }
   ],
   "source": [
    "#Connect to website\n",
    "URL = 'https://www.amazon.ae/Tops-Shirt-EngineeRingss-Streetwear-BirthDay-Giftsss/dp/B0CKPL3FY3/ref=sr_1_7?crid=W7SN2QQY8I0V&dib=eyJ2IjoiMSJ9.h70xKa0cudGL8i0re8zj_nNtnn_oVJiF8rppxLPpQupeorDbqIELpV2_6qKi6NWdVvSJwY9Z3BcVrZEVx4242JbAwZLMiz-_4aN6EfXD7BxIYRK_U4S2Im2oAYIUfrov8Zr6oYj86dYqVm1yRviD2ptBhBaM4CO54j-7qPILIlbSYJnFiURChkUpoMb-o6Z6IaOJwbxVyYGsMHhaoIbZ51r2uXlfHc3oAfKxP1rrXEn4ThZx_12hMTGK6uiEt65G7iG12Ma9nTgY5hx6tKPwh6-b7jTX2_atHpqQadEA3uI.X6INLVEwlo9y-okkioPjVgLgJ4ObSjWOoI6E1qrywHM&dib_tag=se&keywords=data+analyst+shirt&qid=1711399052&sprefix=data+analyst+shi%2Caps%2C316&sr=8-7'\n",
    "\n",
    "headers = { \"User-Agent\": \"Mozilla/5.0 (Windows NT 10.0; Win64; x64) AppleWebKit/537.36 (KHTML, like Gecko) Chrome/122.0.0.0 Safari/537.36\", \"Accept-Encoding\":\"gzip, deflate\", \"Accept\":\"text/html,application/xhtml+xml,application/xml;q=0.9,*/*;q=0.8\", \"DNT\":\"1\",\"Connection\":\"close\", \"Upgrade-Insecure-Requests\":\"1\"}\n",
    "\n",
    "page = requests.get(URL, headers=headers)\n",
    "\n",
    "soup1 = BeautifulSoup(page.content, 'html.parser')\n",
    "soup2 = BeautifulSoup(soup1.prettify(), 'html.parser')\n",
    "\n",
    "title = soup2.find(id='productTitle').get_text()\n",
    "\n",
    "price = soup1.find(id='corePriceDisplay_desktop_feature_div').get_text()\n",
    "\n",
    "\n",
    "print(title)\n",
    "print(price)\n",
    "\n"
   ]
  },
  {
   "cell_type": "code",
   "execution_count": 128,
   "metadata": {},
   "outputs": [
    {
     "name": "stdout",
     "output_type": "stream",
     "text": [
      "Tops & T Shirt - Data Analytics\n",
      "159.43\n"
     ]
    }
   ],
   "source": [
    "price =price.strip()[17:]\n",
    "title = title.strip()[:31]\n",
    "\n",
    "\n",
    "print(title)    \n",
    "print(price)"
   ]
  },
  {
   "cell_type": "code",
   "execution_count": 129,
   "metadata": {},
   "outputs": [
    {
     "name": "stdout",
     "output_type": "stream",
     "text": [
      "2024-03-25\n"
     ]
    }
   ],
   "source": [
    "import datetime\n",
    "\n",
    "today = datetime.date.today()\n",
    "\n",
    "print(today)"
   ]
  },
  {
   "cell_type": "code",
   "execution_count": 179,
   "metadata": {},
   "outputs": [],
   "source": [
    "import csv\n",
    "header = ['Title', 'Price','Date']\n",
    "data = [title, price, today]\n",
    "\n",
    "with open('AmazonWebScraperDataset.csv', 'w',newline ='',encoding= 'UTF8')as f:\n",
    "    writer = csv.writer(f)\n",
    "    writer.writerow(header)\n",
    "    writer.writerow(data)\n",
    "    \n",
    "   \n"
   ]
  },
  {
   "cell_type": "code",
   "execution_count": 178,
   "metadata": {},
   "outputs": [
    {
     "name": "stdout",
     "output_type": "stream",
     "text": [
      "                             Title   Price        Date\n",
      "0  Tops & T Shirt - Data Analytics  159.43  2024-03-25\n"
     ]
    }
   ],
   "source": [
    "import pandas as pd\n",
    "\n",
    "df = pd.read_csv('AmazonWebScraperDataset.csv')\n",
    "print(df)"
   ]
  },
  {
   "cell_type": "code",
   "execution_count": 132,
   "metadata": {},
   "outputs": [],
   "source": [
    "#appending data to te csv\n",
    "with open('AmazonWebScraperDataset.csv', 'w',newline ='',encoding= 'UTF8')as f:\n",
    "    writer = csv.writer(f)\n",
    "    writer.writerow(data)"
   ]
  },
  {
   "cell_type": "code",
   "execution_count": 133,
   "metadata": {},
   "outputs": [],
   "source": [
    "def check_price():\n",
    "    URL = 'https://www.amazon.ae/Tops-Shirt-EngineeRingss-Streetwear-BirthDay-Giftsss/dp/B0CKPL3FY3/ref=sr_1_7?crid=W7SN2QQY8I0V&dib=eyJ2IjoiMSJ9.h70xKa0cudGL8i0re8zj_nNtnn_oVJiF8rppxLPpQupeorDbqIELpV2_6qKi6NWdVvSJwY9Z3BcVrZEVx4242JbAwZLMiz-_4aN6EfXD7BxIYRK_U4S2Im2oAYIUfrov8Zr6oYj86dYqVm1yRviD2ptBhBaM4CO54j-7qPILIlbSYJnFiURChkUpoMb-o6Z6IaOJwbxVyYGsMHhaoIbZ51r2uXlfHc3oAfKxP1rrXEn4ThZx_12hMTGK6uiEt65G7iG12Ma9nTgY5hx6tKPwh6-b7jTX2_atHpqQadEA3uI.X6INLVEwlo9y-okkioPjVgLgJ4ObSjWOoI6E1qrywHM&dib_tag=se&keywords=data+analyst+shirt&qid=1711399052&sprefix=data+analyst+shi%2Caps%2C316&sr=8-7'\n",
    "\n",
    "    headers = { \"User-Agent\": \"Mozilla/5.0 (Windows NT 10.0; Win64; x64) AppleWebKit/537.36 (KHTML, like Gecko) Chrome/122.0.0.0 Safari/537.36\", \"Accept-Encoding\":\"gzip, deflate\", \"Accept\":\"text/html,application/xhtml+xml,application/xml;q=0.9,*/*;q=0.8\", \"DNT\":\"1\",\"Connection\":\"close\", \"Upgrade-Insecure-Requests\":\"1\"}\n",
    "\n",
    "    page = requests.get(URL, headers=headers)\n",
    "\n",
    "    soup1 = BeautifulSoup(page.content, 'html.parser')\n",
    "    soup2 = BeautifulSoup(soup1.prettify(), 'html.parser')\n",
    "\n",
    "    title = soup2.find(id='productTitle').get_text()\n",
    "\n",
    "    price = soup1.find(id='corePriceDisplay_desktop_feature_div').get_text()\n",
    "\n",
    "    price =price.strip()[17:]\n",
    "    title = title.strip()[:31]\n",
    "\n",
    "    today = datetime.date.today()\n",
    "\n",
    "    header = ['Title', 'Price','Date']\n",
    "    data = [title, price, today]\n",
    "    \n",
    "    with open('AmazonWebScraperDataset.csv', 'w',newline ='',encoding= 'UTF8')as f:\n",
    "        writer = csv.writer(f)\n",
    "        writer.writerow(data)\n",
    "\n",
    "    if (price < 100): \n",
    "        send_mail()    \n",
    "        "
   ]
  },
  {
   "cell_type": "code",
   "execution_count": null,
   "metadata": {},
   "outputs": [],
   "source": [
    "while(True):\n",
    "    check_price()\n",
    "    time.sleep(5)"
   ]
  },
  {
   "cell_type": "code",
   "execution_count": 180,
   "metadata": {},
   "outputs": [
    {
     "name": "stdout",
     "output_type": "stream",
     "text": [
      "                             Title   Price        Date\n",
      "0  Tops & T Shirt - Data Analytics  159.43  2024-03-25\n",
      "1  Tops & T Shirt - Data Analytics  159.43  2024-03-25\n",
      "2  Tops & T Shirt - Data Analytics  159.43  2024-03-25\n",
      "3  Tops & T Shirt - Data Analytics  159.43  2024-03-25\n",
      "4  Tops & T Shirt - Data Analytics  159.43  2024-03-25\n",
      "5  Tops & T Shirt - Data Analytics  159.43  2024-03-25\n",
      "6  Tops & T Shirt - Data Analytics  159.43  2024-03-25\n",
      "7  Tops & T Shirt - Data Analytics  159.43  2024-03-25\n",
      "8  Tops & T Shirt - Data Analytics  159.43  2024-03-25\n"
     ]
    }
   ],
   "source": [
    "\n",
    "df = pd.read_csv('AmazonWebScraperDataset.csv')\n",
    "print(df)"
   ]
  },
  {
   "cell_type": "code",
   "execution_count": null,
   "metadata": {},
   "outputs": [],
   "source": [
    "def send_mail():\n",
    "    server = smtplib.SMTP_SSL('smtp.gmail.com',465)\n",
    "    server.ehlo()\n",
    "    server.login('x@gmail.com','xxxxxxxxxxxxx')\n",
    "    subject = \"The shirt you wanted is below AED100\"\n",
    "    body = \"The shirt you wanted is below AED100 now is your chance to buy \"\n",
    "    \n",
    "    msg =f\"subject: {subject}\\n\\n{body}\"\n",
    "\n",
    "    server.sendmail{\n",
    "        'x@gmail.com',\n",
    "        msg\n",
    "    }"
   ]
  }
 ],
 "metadata": {
  "kernelspec": {
   "display_name": "Python 3",
   "language": "python",
   "name": "python3"
  },
  "language_info": {
   "codemirror_mode": {
    "name": "ipython",
    "version": 3
   },
   "file_extension": ".py",
   "mimetype": "text/x-python",
   "name": "python",
   "nbconvert_exporter": "python",
   "pygments_lexer": "ipython3",
   "version": "3.10.10"
  }
 },
 "nbformat": 4,
 "nbformat_minor": 2
}
